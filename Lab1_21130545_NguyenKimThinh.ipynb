{
  "nbformat": 4,
  "nbformat_minor": 0,
  "metadata": {
    "colab": {
      "provenance": [],
      "authorship_tag": "ABX9TyMyF259TUhESTNy45Ot/AOh",
      "include_colab_link": true
    },
    "kernelspec": {
      "name": "python3",
      "display_name": "Python 3"
    },
    "language_info": {
      "name": "python"
    }
  },
  "cells": [
    {
      "cell_type": "markdown",
      "metadata": {
        "id": "view-in-github",
        "colab_type": "text"
      },
      "source": [
        "<a href=\"https://colab.research.google.com/github/kimthinhh03/Lab_ML/blob/main/Lab1_21130545_NguyenKimThinh.ipynb\" target=\"_parent\"><img src=\"https://colab.research.google.com/assets/colab-badge.svg\" alt=\"Open In Colab\"/></a>"
      ]
    },
    {
      "cell_type": "markdown",
      "source": [
        "Task 1.1. Develop a Python program to perform the following tasks:"
      ],
      "metadata": {
        "id": "zysV3MeFrJ9n"
      }
    },
    {
      "cell_type": "markdown",
      "source": [
        "– Input an integer number n"
      ],
      "metadata": {
        "id": "JHWoN12ErRCZ"
      }
    },
    {
      "cell_type": "code",
      "execution_count": null,
      "metadata": {
        "colab": {
          "base_uri": "https://localhost:8080/"
        },
        "id": "xoNvSoUpnpqo",
        "outputId": "8bf4e018-e865-4a7a-d99e-7c2ab33ae414"
      },
      "outputs": [
        {
          "name": "stdout",
          "output_type": "stream",
          "text": [
            "Input an integer number n : 2\n"
          ]
        }
      ],
      "source": [
        "n = int(input('Input an integer number n : '))"
      ]
    },
    {
      "cell_type": "markdown",
      "source": [
        "– Input n integer numbers x1, x2,..., xn and append them into a list L."
      ],
      "metadata": {
        "id": "A9e9Rrm1rX9i"
      }
    },
    {
      "cell_type": "code",
      "source": [
        "n = int(input('Input an integer number n : '))\n",
        "# integer_list = <list>[1:n+1:1]\n",
        "num = 0\n",
        "while num < n+1:\n",
        "  num += 1\n",
        "  integer_list=<list>[]\n",
        "  integer_list.append\n",
        "print(integer_list)"
      ],
      "metadata": {
        "id": "0DBExKhKrY9b"
      },
      "execution_count": null,
      "outputs": []
    },
    {
      "cell_type": "code",
      "source": [
        "def task1():\n",
        "  n = int(input('Input an integer number n : '))\n",
        "  L = []\n",
        "  for i in range(n):\n",
        "    L.append(int(input(\"x\")))"
      ],
      "metadata": {
        "id": "YEcg2j9FyKCk"
      },
      "execution_count": null,
      "outputs": []
    },
    {
      "cell_type": "markdown",
      "source": [
        "**Task 1.3**"
      ],
      "metadata": {
        "id": "58q_EMXFxhRv"
      }
    },
    {
      "cell_type": "code",
      "source": [
        "class Account:\n",
        "  def __init__ (self, name, email, country, friends, posts)\n",
        "  self.name = name\n",
        "  self.email = email\n",
        "  self.country = country\n",
        "  self.friends = <list> Account\n",
        "  self.posts = <list> Post\n",
        "class Post:\n",
        "  def __init__ (self, content, subject, likes)\n",
        "  self.content = content\n",
        "  self.subject = subject\n",
        "  self.likes = likes\n",
        "class AccountManager:\n",
        "  def __init__ (self, accounts)\n",
        "  self.accounts = <list> Account"
      ],
      "metadata": {
        "id": "nzU4gZ-kxgcv"
      },
      "execution_count": null,
      "outputs": []
    },
    {
      "cell_type": "markdown",
      "source": [
        "hello"
      ],
      "metadata": {
        "id": "yMVdudX9fyFP"
      }
    }
  ]
}